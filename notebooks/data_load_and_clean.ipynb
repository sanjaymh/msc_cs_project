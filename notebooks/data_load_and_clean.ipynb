{
 "cells": [
  {
   "cell_type": "code",
   "id": "initial_id",
   "metadata": {
    "collapsed": true,
    "ExecuteTime": {
     "end_time": "2025-09-08T22:08:50.680926Z",
     "start_time": "2025-09-08T22:08:50.675903Z"
    }
   },
   "source": [
    "#1\n",
    "# import and paths\n",
    "import os\n",
    "import pandas as pd\n",
    "from src.data_utils import clean_data, quick_health_report\n",
    "\n",
    "RAW_PATH   = \"../data/raw/prs.csv\"\n",
    "CLEAN_DIR  = \"../data/clean\"\n",
    "os.makedirs(CLEAN_DIR, exist_ok=True)\n",
    "CSV_PATH = os.path.join(CLEAN_DIR, \"prs_clean.csv\")\n",
    "PARQ_PATH = os.path.join(CLEAN_DIR, \"prs_clean.parquet\")\n",
    "\n",
    "os.makedirs(CLEAN_DIR, exist_ok=True)\n",
    "\n",
    "print(\"Paths set\")\n",
    "\n"
   ],
   "outputs": [
    {
     "name": "stdout",
     "output_type": "stream",
     "text": [
      "Paths set\n"
     ]
    }
   ],
   "execution_count": 10
  },
  {
   "metadata": {
    "ExecuteTime": {
     "end_time": "2025-09-08T22:08:53.431545Z",
     "start_time": "2025-09-08T22:08:53.419882Z"
    }
   },
   "cell_type": "code",
   "source": [
    "#2\n",
    "# load raw csv\n",
    "if not os.path.exists(RAW_PATH):\n",
    "    raise FileNotFoundError(f\"Raw file missing at {RAW_PATH}\")\n",
    "\n",
    "df = pd.read_csv(RAW_PATH)\n",
    "print(f\"Loaded raw rows: {len(df)}\")\n",
    "display(df.head(3))"
   ],
   "id": "bf6064de7b7da9e8",
   "outputs": [
    {
     "name": "stdout",
     "output_type": "stream",
     "text": [
      "Loaded raw rows: 100\n"
     ]
    },
    {
     "data": {
      "text/plain": [
       "           id  number                                              title  \\\n",
       "0  2801771679   55290      Fixed rows_processor in SQLInsertRowsOperator   \n",
       "1  2801526484   55288  Remove python_callable as string from mapped o...   \n",
       "2  2801402406   55286                   add stable note to BatchExecutor   \n",
       "\n",
       "          author                                               body  \\\n",
       "0          dabla  While testing the new providers in Airflow 3.0...   \n",
       "1  jedcunningham  Remove string serialization of pythoncallable ...   \n",
       "2        eladkal  looks like I lost the stable note in changelog...   \n",
       "\n",
       "             created_at   state  \\\n",
       "0  2025-09-05T07:43:33Z  closed   \n",
       "1  2025-09-05T05:29:19Z  closed   \n",
       "2  2025-09-05T03:57:57Z  closed   \n",
       "\n",
       "                                              labels      reviewers  \n",
       "0                 area:providers;provider:common-sql        eladkal  \n",
       "1                                 area:serialization  jedcunningham  \n",
       "2  provider:amazon;area:providers;kind:documentation        eladkal  "
      ],
      "text/html": [
       "<div>\n",
       "<style scoped>\n",
       "    .dataframe tbody tr th:only-of-type {\n",
       "        vertical-align: middle;\n",
       "    }\n",
       "\n",
       "    .dataframe tbody tr th {\n",
       "        vertical-align: top;\n",
       "    }\n",
       "\n",
       "    .dataframe thead th {\n",
       "        text-align: right;\n",
       "    }\n",
       "</style>\n",
       "<table border=\"1\" class=\"dataframe\">\n",
       "  <thead>\n",
       "    <tr style=\"text-align: right;\">\n",
       "      <th></th>\n",
       "      <th>id</th>\n",
       "      <th>number</th>\n",
       "      <th>title</th>\n",
       "      <th>author</th>\n",
       "      <th>body</th>\n",
       "      <th>created_at</th>\n",
       "      <th>state</th>\n",
       "      <th>labels</th>\n",
       "      <th>reviewers</th>\n",
       "    </tr>\n",
       "  </thead>\n",
       "  <tbody>\n",
       "    <tr>\n",
       "      <th>0</th>\n",
       "      <td>2801771679</td>\n",
       "      <td>55290</td>\n",
       "      <td>Fixed rows_processor in SQLInsertRowsOperator</td>\n",
       "      <td>dabla</td>\n",
       "      <td>While testing the new providers in Airflow 3.0...</td>\n",
       "      <td>2025-09-05T07:43:33Z</td>\n",
       "      <td>closed</td>\n",
       "      <td>area:providers;provider:common-sql</td>\n",
       "      <td>eladkal</td>\n",
       "    </tr>\n",
       "    <tr>\n",
       "      <th>1</th>\n",
       "      <td>2801526484</td>\n",
       "      <td>55288</td>\n",
       "      <td>Remove python_callable as string from mapped o...</td>\n",
       "      <td>jedcunningham</td>\n",
       "      <td>Remove string serialization of pythoncallable ...</td>\n",
       "      <td>2025-09-05T05:29:19Z</td>\n",
       "      <td>closed</td>\n",
       "      <td>area:serialization</td>\n",
       "      <td>jedcunningham</td>\n",
       "    </tr>\n",
       "    <tr>\n",
       "      <th>2</th>\n",
       "      <td>2801402406</td>\n",
       "      <td>55286</td>\n",
       "      <td>add stable note to BatchExecutor</td>\n",
       "      <td>eladkal</td>\n",
       "      <td>looks like I lost the stable note in changelog...</td>\n",
       "      <td>2025-09-05T03:57:57Z</td>\n",
       "      <td>closed</td>\n",
       "      <td>provider:amazon;area:providers;kind:documentation</td>\n",
       "      <td>eladkal</td>\n",
       "    </tr>\n",
       "  </tbody>\n",
       "</table>\n",
       "</div>"
      ]
     },
     "metadata": {},
     "output_type": "display_data"
    }
   ],
   "execution_count": 11
  },
  {
   "metadata": {
    "ExecuteTime": {
     "end_time": "2025-09-08T22:09:02.349924Z",
     "start_time": "2025-09-08T22:09:02.339888Z"
    }
   },
   "cell_type": "code",
   "source": [
    "#3\n",
    "# check for missing and duplicate values\n",
    "print(\"Basic info:\")\n",
    "display(df.info())\n",
    "\n",
    "print(\"\\nMissing values per column:\")\n",
    "display(df.isna().sum())\n",
    "\n",
    "if \"id\" in df.columns:\n",
    "    print(\"Duplicate id count:\", df[\"id\"].duplicated().sum())\n",
    "if \"number\" in df.columns:\n",
    "    print(\"Duplicate number count:\", df[\"number\"].duplicated().sum())\n",
    "\n",
    "if \"created_at\" in df.columns:\n",
    "    print(\"created_at range (raw):\", df[\"created_at\"].min(), \"→\", df[\"created_at\"].max())\n"
   ],
   "id": "6ba4d9a17702430",
   "outputs": [
    {
     "name": "stdout",
     "output_type": "stream",
     "text": [
      "Basic info:\n",
      "<class 'pandas.core.frame.DataFrame'>\n",
      "RangeIndex: 100 entries, 0 to 99\n",
      "Data columns (total 9 columns):\n",
      " #   Column      Non-Null Count  Dtype \n",
      "---  ------      --------------  ----- \n",
      " 0   id          100 non-null    int64 \n",
      " 1   number      100 non-null    int64 \n",
      " 2   title       100 non-null    object\n",
      " 3   author      100 non-null    object\n",
      " 4   body        99 non-null     object\n",
      " 5   created_at  100 non-null    object\n",
      " 6   state       100 non-null    object\n",
      " 7   labels      100 non-null    object\n",
      " 8   reviewers   100 non-null    object\n",
      "dtypes: int64(2), object(7)\n",
      "memory usage: 7.2+ KB\n"
     ]
    },
    {
     "data": {
      "text/plain": [
       "None"
      ]
     },
     "metadata": {},
     "output_type": "display_data"
    },
    {
     "name": "stdout",
     "output_type": "stream",
     "text": [
      "\n",
      "Missing values per column:\n"
     ]
    },
    {
     "data": {
      "text/plain": [
       "id            0\n",
       "number        0\n",
       "title         0\n",
       "author        0\n",
       "body          1\n",
       "created_at    0\n",
       "state         0\n",
       "labels        0\n",
       "reviewers     0\n",
       "dtype: int64"
      ]
     },
     "metadata": {},
     "output_type": "display_data"
    },
    {
     "name": "stdout",
     "output_type": "stream",
     "text": [
      "Duplicate id count: 1\n",
      "Duplicate number count: 1\n",
      "created_at range (raw): 2025-08-28T18:21:39Z → 2025-09-05T07:43:33Z\n"
     ]
    }
   ],
   "execution_count": 12
  },
  {
   "metadata": {
    "ExecuteTime": {
     "end_time": "2025-09-08T22:10:26.702958Z",
     "start_time": "2025-09-08T22:10:25.860988Z"
    }
   },
   "cell_type": "code",
   "source": [
    "# 4\n",
    "# clean the data so that it is suitable for further analysis.\n",
    "df_clean = clean_data(\n",
    "    df,\n",
    "    remove_self_reviews=True,   # drop self-reviews (author == reviewer) per your choice\n",
    "    split_lists=True,           # parse semicolon-lists into lists\n",
    "    lowercase_tokens=True,      # normalize tokens if you want\n",
    "    trim_tokens=True\n",
    ")\n",
    "\n",
    "report = quick_health_report(df_clean)\n",
    "print(\"Health report after cleaning:\")\n",
    "display(report)\n",
    "\n",
    "print(\"\\nCleaned rows:\", len(df_clean))\n",
    "display(df_clean[[\"author\", \"body_clean\", \"labels_list\", \"keyphrases\", \"reviewers_list\"]].head())\n"
   ],
   "id": "4e19deba80198339",
   "outputs": [
    {
     "name": "stdout",
     "output_type": "stream",
     "text": [
      "Health report after cleaning:\n"
     ]
    },
    {
     "data": {
      "text/plain": [
       "{'rows': 53,\n",
       " 'cols': 13,\n",
       " 'duplicate_ids': 0,\n",
       " 'duplicate_numbers': 0,\n",
       " 'total_nulls': 0,\n",
       " 'unparseable_dates': 0,\n",
       " 'date_min': '2025-08-29 01:17:04+00:00',\n",
       " 'date_max': '2025-09-05 07:43:33+00:00',\n",
       " 'avg_labels_per_pr': 1.8113207547169812,\n",
       " 'avg_reviewers_per_pr': 1.0}"
      ]
     },
     "metadata": {},
     "output_type": "display_data"
    },
    {
     "name": "stdout",
     "output_type": "stream",
     "text": [
      "\n",
      "Cleaned rows: 53\n"
     ]
    },
    {
     "data": {
      "text/plain": [
       "         author                                         body_clean  \\\n",
       "0         dabla  While testing the new providers in Airflow 3.0...   \n",
       "7     tirkarthi                                      closes #55251   \n",
       "8   amoghrajesh  That isn't right ^ --- ^ Add meaningful descri...   \n",
       "10  sjyangkevin  Close: #55054 Reproduce the error The task fai...   \n",
       "14     ferruzzi  Simple banner on the docs page. Screenshot of ...   \n",
       "\n",
       "                                          labels_list  \\\n",
       "0               [area:providers, provider:common-sql]   \n",
       "7                                           [area:ui]   \n",
       "8             [area:dev-tools, backport-to-v3-0-test]   \n",
       "10  [area:providers, area:triggerer, provider:stan...   \n",
       "14                               [kind:documentation]   \n",
       "\n",
       "                                           keyphrases    reviewers_list  \n",
       "0   the new providers | Airflow 3.0.6 | I | an iss...         [eladkal]  \n",
       "7                                                      [pierrejeambrun]  \n",
       "8   That | meaningful description | more informati...          [potiuk]  \n",
       "10  the error | The task | the conflict error | Th...           [lee-w]  \n",
       "14  Simple banner | the docs page | the rendered r...          [potiuk]  "
      ],
      "text/html": [
       "<div>\n",
       "<style scoped>\n",
       "    .dataframe tbody tr th:only-of-type {\n",
       "        vertical-align: middle;\n",
       "    }\n",
       "\n",
       "    .dataframe tbody tr th {\n",
       "        vertical-align: top;\n",
       "    }\n",
       "\n",
       "    .dataframe thead th {\n",
       "        text-align: right;\n",
       "    }\n",
       "</style>\n",
       "<table border=\"1\" class=\"dataframe\">\n",
       "  <thead>\n",
       "    <tr style=\"text-align: right;\">\n",
       "      <th></th>\n",
       "      <th>author</th>\n",
       "      <th>body_clean</th>\n",
       "      <th>labels_list</th>\n",
       "      <th>keyphrases</th>\n",
       "      <th>reviewers_list</th>\n",
       "    </tr>\n",
       "  </thead>\n",
       "  <tbody>\n",
       "    <tr>\n",
       "      <th>0</th>\n",
       "      <td>dabla</td>\n",
       "      <td>While testing the new providers in Airflow 3.0...</td>\n",
       "      <td>[area:providers, provider:common-sql]</td>\n",
       "      <td>the new providers | Airflow 3.0.6 | I | an iss...</td>\n",
       "      <td>[eladkal]</td>\n",
       "    </tr>\n",
       "    <tr>\n",
       "      <th>7</th>\n",
       "      <td>tirkarthi</td>\n",
       "      <td>closes #55251</td>\n",
       "      <td>[area:ui]</td>\n",
       "      <td></td>\n",
       "      <td>[pierrejeambrun]</td>\n",
       "    </tr>\n",
       "    <tr>\n",
       "      <th>8</th>\n",
       "      <td>amoghrajesh</td>\n",
       "      <td>That isn't right ^ --- ^ Add meaningful descri...</td>\n",
       "      <td>[area:dev-tools, backport-to-v3-0-test]</td>\n",
       "      <td>That | meaningful description | more informati...</td>\n",
       "      <td>[potiuk]</td>\n",
       "    </tr>\n",
       "    <tr>\n",
       "      <th>10</th>\n",
       "      <td>sjyangkevin</td>\n",
       "      <td>Close: #55054 Reproduce the error The task fai...</td>\n",
       "      <td>[area:providers, area:triggerer, provider:stan...</td>\n",
       "      <td>the error | The task | the conflict error | Th...</td>\n",
       "      <td>[lee-w]</td>\n",
       "    </tr>\n",
       "    <tr>\n",
       "      <th>14</th>\n",
       "      <td>ferruzzi</td>\n",
       "      <td>Simple banner on the docs page. Screenshot of ...</td>\n",
       "      <td>[kind:documentation]</td>\n",
       "      <td>Simple banner | the docs page | the rendered r...</td>\n",
       "      <td>[potiuk]</td>\n",
       "    </tr>\n",
       "  </tbody>\n",
       "</table>\n",
       "</div>"
      ]
     },
     "metadata": {},
     "output_type": "display_data"
    }
   ],
   "execution_count": 17
  },
  {
   "metadata": {
    "ExecuteTime": {
     "end_time": "2025-09-08T22:10:43.259891Z",
     "start_time": "2025-09-08T22:10:43.253789Z"
    }
   },
   "cell_type": "code",
   "source": [
    "# 5\n",
    "# check for missing columns\n",
    "expected_cols = {\"author\", \"labels_list\", \"reviewers_list\", \"created_at\", \"body_clean\"}\n",
    "missing = [c for c in expected_cols if c not in df_clean.columns]\n",
    "if missing:\n",
    "    raise AssertionError(f\"Missing expected columns after cleaning: {missing}\")\n",
    "\n",
    "# need to confirm if the lists are Python lists\n",
    "sample_i = df_clean.index[0]\n",
    "assert isinstance(df_clean.loc[sample_i, \"labels_list\"], list), \"labels_list should be a list\"\n",
    "assert isinstance(df_clean.loc[sample_i, \"reviewers_list\"], list), \"reviewers_list should be a list\"\n",
    "# assuring the datetime is not string but actual datetime\n",
    "assert pd.api.types.is_datetime64_any_dtype(df_clean[\"created_at\"]), \"created_at must be datetime64[ns, UTC]\"\n",
    "print(\"Sanity checks passed ✅\")"
   ],
   "id": "15508618a619ad86",
   "outputs": [
    {
     "name": "stdout",
     "output_type": "stream",
     "text": [
      "Sanity checks passed ✅\n"
     ]
    }
   ],
   "execution_count": 19
  },
  {
   "metadata": {
    "ExecuteTime": {
     "end_time": "2025-09-08T22:10:46.075441Z",
     "start_time": "2025-09-08T22:10:46.070891Z"
    }
   },
   "cell_type": "code",
   "source": [
    "# 6\n",
    "# date range of data considered\n",
    "df['created_at'].min(), df['created_at'].max()"
   ],
   "id": "26306e283605cbec",
   "outputs": [
    {
     "data": {
      "text/plain": [
       "('2025-08-28T18:21:39Z', '2025-09-05T07:43:33Z')"
      ]
     },
     "execution_count": 20,
     "metadata": {},
     "output_type": "execute_result"
    }
   ],
   "execution_count": 20
  },
  {
   "metadata": {
    "ExecuteTime": {
     "end_time": "2025-09-08T22:10:47.856389Z",
     "start_time": "2025-09-08T22:10:47.817527Z"
    }
   },
   "cell_type": "code",
   "source": [
    "# 7\n",
    "# save CSV (human-readable)\n",
    "df_clean.to_csv(CSV_PATH, index=False)\n",
    "\n",
    "# save Parquet (preserves datatypes & lists)\n",
    "df_clean.to_parquet(PARQ_PATH, index=False)\n",
    "\n",
    "print(f\"Saved CSV  → {CSV_PATH}  (rows: {len(df_clean)})\")\n",
    "print(f\"Saved Parquet → {PARQ_PATH}  (rows: {len(df_clean)})\")"
   ],
   "id": "b5ff61b8b82bc09f",
   "outputs": [
    {
     "name": "stdout",
     "output_type": "stream",
     "text": [
      "Saved CSV  → ../data/clean/prs_clean.csv  (rows: 53)\n",
      "Saved Parquet → ../data/clean/prs_clean.parquet  (rows: 53)\n"
     ]
    }
   ],
   "execution_count": 21
  },
  {
   "metadata": {
    "ExecuteTime": {
     "end_time": "2025-09-08T22:10:49.496348Z",
     "start_time": "2025-09-08T22:10:49.482669Z"
    }
   },
   "cell_type": "code",
   "source": [
    "# 8\n",
    "# create an exploded author–reviewer pairs CSV used by EDA notebook\n",
    "PAIRS_PATH = f\"{CLEAN_DIR}/prs_pairs.csv\"\n",
    "pairs = (\n",
    "    df_clean[[\"id\",\"number\",\"author\",\"reviewers_list\",\"created_at\"]]\n",
    "    .explode(\"reviewers_list\")\n",
    "    .rename(columns={\"reviewers_list\":\"reviewer\"})\n",
    "    .dropna(subset=[\"reviewer\"])\n",
    "    .reset_index(drop=True)\n",
    ")\n",
    "pairs.to_csv(PAIRS_PATH, index=False)\n",
    "print(f\"Saved pairs → {PAIRS_PATH} (rows: {len(pairs)}, unique reviewers: {pairs['reviewer'].nunique()})\")\n",
    "display(pairs.head(5))"
   ],
   "id": "2cad920854188ac9",
   "outputs": [
    {
     "name": "stdout",
     "output_type": "stream",
     "text": [
      "Saved pairs → ../data/clean/prs_pairs.csv (rows: 53, unique reviewers: 14)\n"
     ]
    },
    {
     "data": {
      "text/plain": [
       "           id  number       author        reviewer                created_at\n",
       "0  2801771679   55290        dabla         eladkal 2025-09-05 07:43:33+00:00\n",
       "1  2799915276   55269    tirkarthi  pierrejeambrun 2025-09-04 15:35:43+00:00\n",
       "2  2799094678   55261  amoghrajesh          potiuk 2025-09-04 11:43:18+00:00\n",
       "3  2797986433   55243  sjyangkevin           lee-w 2025-09-04 04:52:39+00:00\n",
       "4  2797544900   55235     ferruzzi          potiuk 2025-09-03 23:41:52+00:00"
      ],
      "text/html": [
       "<div>\n",
       "<style scoped>\n",
       "    .dataframe tbody tr th:only-of-type {\n",
       "        vertical-align: middle;\n",
       "    }\n",
       "\n",
       "    .dataframe tbody tr th {\n",
       "        vertical-align: top;\n",
       "    }\n",
       "\n",
       "    .dataframe thead th {\n",
       "        text-align: right;\n",
       "    }\n",
       "</style>\n",
       "<table border=\"1\" class=\"dataframe\">\n",
       "  <thead>\n",
       "    <tr style=\"text-align: right;\">\n",
       "      <th></th>\n",
       "      <th>id</th>\n",
       "      <th>number</th>\n",
       "      <th>author</th>\n",
       "      <th>reviewer</th>\n",
       "      <th>created_at</th>\n",
       "    </tr>\n",
       "  </thead>\n",
       "  <tbody>\n",
       "    <tr>\n",
       "      <th>0</th>\n",
       "      <td>2801771679</td>\n",
       "      <td>55290</td>\n",
       "      <td>dabla</td>\n",
       "      <td>eladkal</td>\n",
       "      <td>2025-09-05 07:43:33+00:00</td>\n",
       "    </tr>\n",
       "    <tr>\n",
       "      <th>1</th>\n",
       "      <td>2799915276</td>\n",
       "      <td>55269</td>\n",
       "      <td>tirkarthi</td>\n",
       "      <td>pierrejeambrun</td>\n",
       "      <td>2025-09-04 15:35:43+00:00</td>\n",
       "    </tr>\n",
       "    <tr>\n",
       "      <th>2</th>\n",
       "      <td>2799094678</td>\n",
       "      <td>55261</td>\n",
       "      <td>amoghrajesh</td>\n",
       "      <td>potiuk</td>\n",
       "      <td>2025-09-04 11:43:18+00:00</td>\n",
       "    </tr>\n",
       "    <tr>\n",
       "      <th>3</th>\n",
       "      <td>2797986433</td>\n",
       "      <td>55243</td>\n",
       "      <td>sjyangkevin</td>\n",
       "      <td>lee-w</td>\n",
       "      <td>2025-09-04 04:52:39+00:00</td>\n",
       "    </tr>\n",
       "    <tr>\n",
       "      <th>4</th>\n",
       "      <td>2797544900</td>\n",
       "      <td>55235</td>\n",
       "      <td>ferruzzi</td>\n",
       "      <td>potiuk</td>\n",
       "      <td>2025-09-03 23:41:52+00:00</td>\n",
       "    </tr>\n",
       "  </tbody>\n",
       "</table>\n",
       "</div>"
      ]
     },
     "metadata": {},
     "output_type": "display_data"
    }
   ],
   "execution_count": 22
  },
  {
   "metadata": {
    "ExecuteTime": {
     "end_time": "2025-09-08T22:10:55.269027Z",
     "start_time": "2025-09-08T22:10:55.265852Z"
    }
   },
   "cell_type": "code",
   "source": [
    "print(\"Data load & clean complete.\")\n",
    "print(f\"Cleaned PRs: {len(df_clean)}\")\n",
    "print(\"Preview columns:\", list(df_clean.columns))\n"
   ],
   "id": "6b56699e7dad4840",
   "outputs": [
    {
     "name": "stdout",
     "output_type": "stream",
     "text": [
      "Data load & clean complete.\n",
      "Cleaned PRs: 53\n",
      "Preview columns: ['id', 'number', 'title', 'author', 'body', 'created_at', 'state', 'labels', 'reviewers', 'labels_list', 'reviewers_list', 'body_clean', 'keyphrases']\n"
     ]
    }
   ],
   "execution_count": 23
  }
 ],
 "metadata": {
  "kernelspec": {
   "display_name": "Python 3",
   "language": "python",
   "name": "python3"
  },
  "language_info": {
   "codemirror_mode": {
    "name": "ipython",
    "version": 2
   },
   "file_extension": ".py",
   "mimetype": "text/x-python",
   "name": "python",
   "nbconvert_exporter": "python",
   "pygments_lexer": "ipython2",
   "version": "2.7.6"
  }
 },
 "nbformat": 4,
 "nbformat_minor": 5
}
