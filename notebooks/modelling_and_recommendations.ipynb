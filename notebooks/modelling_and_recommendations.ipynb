{
 "cells": [
  {
   "cell_type": "code",
   "id": "fc987f2a",
   "metadata": {
    "ExecuteTime": {
     "end_time": "2025-09-08T22:31:52.313058Z",
     "start_time": "2025-09-08T22:31:50.172907Z"
    }
   },
   "source": [
    "#1\n",
    "# imports and paths\n",
    "import os, sys\n",
    "import numpy as np\n",
    "import pandas as pd\n",
    "import matplotlib.pyplot as plt\n",
    "\n",
    "# Ensure project root on path\n",
    "project_root = os.getcwd()\n",
    "if project_root not in sys.path:\n",
    "    sys.path.insert(0, project_root)\n",
    "\n",
    "# Utils\n",
    "from src.data_utils import parse_list_col\n",
    "from src.model_utils import (\n",
    "    build_priors, build_global_prior, recommend_with_backoff, recommend_reviewers, hit_at_k,\n",
    "    prepare_features, evaluate_with_threshold, train_logistic_baseline, evaluate_multilabel, FeatureBuilder\n",
    ")\n",
    "\n",
    "CLEAN_DIR = \"../data/clean\"\n",
    "PARQ_PATH = os.path.join(CLEAN_DIR, \"prs_clean.parquet\")\n",
    "CSV_PATH  = os.path.join(CLEAN_DIR, \"prs_clean.csv\")\n"
   ],
   "outputs": [],
   "execution_count": 1
  },
  {
   "cell_type": "code",
   "id": "611b5239",
   "metadata": {
    "ExecuteTime": {
     "end_time": "2025-09-08T22:31:53.050462Z",
     "start_time": "2025-09-08T22:31:52.907557Z"
    }
   },
   "source": [
    "#2\n",
    "# load cleaned data try parquet if not csv\n",
    "if os.path.exists(PARQ_PATH):\n",
    "    df = pd.read_parquet(PARQ_PATH)\n",
    "    print(f\"Loaded Parquet ✓ rows={len(df)}\")\n",
    "elif os.path.exists(CSV_PATH):\n",
    "    df = pd.read_csv(CSV_PATH, parse_dates=[\"created_at\"])\n",
    "    # rehydrate list columns if needed\n",
    "    if \"reviewers_list\" in df.columns:\n",
    "        df[\"reviewers_list\"] = parse_list_col(df[\"reviewers_list\"])\n",
    "    if \"labels_list\" in df.columns:\n",
    "        df[\"labels_list\"] = parse_list_col(df[\"labels_list\"])\n",
    "    print(f\"Loaded CSV ✓ rows={len(df)} (lists parsed)\")\n",
    "else:\n",
    "    raise FileNotFoundError(\"No cleaned dataset found. Run data_load_and_clean first.\")\n",
    "\n",
    "display(df.head(3))\n",
    "print(\"Columns:\", list(df.columns))\n"
   ],
   "outputs": [
    {
     "name": "stdout",
     "output_type": "stream",
     "text": [
      "Loaded Parquet ✓ rows=53\n"
     ]
    },
    {
     "data": {
      "text/plain": [
       "           id  number                                              title  \\\n",
       "0  2801771679   55290      Fixed rows_processor in SQLInsertRowsOperator   \n",
       "1  2799915276   55269  Clear ti_summaries cache for a dagrun when a t...   \n",
       "2  2799094678   55261  Display the correct shared project while runni...   \n",
       "\n",
       "        author                                               body  \\\n",
       "0        dabla  While testing the new providers in Airflow 3.0...   \n",
       "1    tirkarthi                                      closes #55251   \n",
       "2  amoghrajesh  <img width=\"1179\" height=\"549\" alt=\"image\" src...   \n",
       "\n",
       "                 created_at   state                                labels  \\\n",
       "0 2025-09-05 07:43:33+00:00  closed    area:providers;provider:common-sql   \n",
       "1 2025-09-04 15:35:43+00:00  closed                               area:UI   \n",
       "2 2025-09-04 11:43:18+00:00  closed  area:dev-tools;backport-to-v3-0-test   \n",
       "\n",
       "        reviewers                              labels_list    reviewers_list  \\\n",
       "0         eladkal    [area:providers, provider:common-sql]         [eladkal]   \n",
       "1  pierrejeambrun                                [area:ui]  [pierrejeambrun]   \n",
       "2          potiuk  [area:dev-tools, backport-to-v3-0-test]          [potiuk]   \n",
       "\n",
       "                                          body_clean  \\\n",
       "0  While testing the new providers in Airflow 3.0...   \n",
       "1                                      closes #55251   \n",
       "2  That isn't right ^ --- ^ Add meaningful descri...   \n",
       "\n",
       "                                          keyphrases  \n",
       "0  the new providers | Airflow 3.0.6 | I | an iss...  \n",
       "1                                                     \n",
       "2  That | meaningful description | more informati...  "
      ],
      "text/html": [
       "<div>\n",
       "<style scoped>\n",
       "    .dataframe tbody tr th:only-of-type {\n",
       "        vertical-align: middle;\n",
       "    }\n",
       "\n",
       "    .dataframe tbody tr th {\n",
       "        vertical-align: top;\n",
       "    }\n",
       "\n",
       "    .dataframe thead th {\n",
       "        text-align: right;\n",
       "    }\n",
       "</style>\n",
       "<table border=\"1\" class=\"dataframe\">\n",
       "  <thead>\n",
       "    <tr style=\"text-align: right;\">\n",
       "      <th></th>\n",
       "      <th>id</th>\n",
       "      <th>number</th>\n",
       "      <th>title</th>\n",
       "      <th>author</th>\n",
       "      <th>body</th>\n",
       "      <th>created_at</th>\n",
       "      <th>state</th>\n",
       "      <th>labels</th>\n",
       "      <th>reviewers</th>\n",
       "      <th>labels_list</th>\n",
       "      <th>reviewers_list</th>\n",
       "      <th>body_clean</th>\n",
       "      <th>keyphrases</th>\n",
       "    </tr>\n",
       "  </thead>\n",
       "  <tbody>\n",
       "    <tr>\n",
       "      <th>0</th>\n",
       "      <td>2801771679</td>\n",
       "      <td>55290</td>\n",
       "      <td>Fixed rows_processor in SQLInsertRowsOperator</td>\n",
       "      <td>dabla</td>\n",
       "      <td>While testing the new providers in Airflow 3.0...</td>\n",
       "      <td>2025-09-05 07:43:33+00:00</td>\n",
       "      <td>closed</td>\n",
       "      <td>area:providers;provider:common-sql</td>\n",
       "      <td>eladkal</td>\n",
       "      <td>[area:providers, provider:common-sql]</td>\n",
       "      <td>[eladkal]</td>\n",
       "      <td>While testing the new providers in Airflow 3.0...</td>\n",
       "      <td>the new providers | Airflow 3.0.6 | I | an iss...</td>\n",
       "    </tr>\n",
       "    <tr>\n",
       "      <th>1</th>\n",
       "      <td>2799915276</td>\n",
       "      <td>55269</td>\n",
       "      <td>Clear ti_summaries cache for a dagrun when a t...</td>\n",
       "      <td>tirkarthi</td>\n",
       "      <td>closes #55251</td>\n",
       "      <td>2025-09-04 15:35:43+00:00</td>\n",
       "      <td>closed</td>\n",
       "      <td>area:UI</td>\n",
       "      <td>pierrejeambrun</td>\n",
       "      <td>[area:ui]</td>\n",
       "      <td>[pierrejeambrun]</td>\n",
       "      <td>closes #55251</td>\n",
       "      <td></td>\n",
       "    </tr>\n",
       "    <tr>\n",
       "      <th>2</th>\n",
       "      <td>2799094678</td>\n",
       "      <td>55261</td>\n",
       "      <td>Display the correct shared project while runni...</td>\n",
       "      <td>amoghrajesh</td>\n",
       "      <td>&lt;img width=\"1179\" height=\"549\" alt=\"image\" src...</td>\n",
       "      <td>2025-09-04 11:43:18+00:00</td>\n",
       "      <td>closed</td>\n",
       "      <td>area:dev-tools;backport-to-v3-0-test</td>\n",
       "      <td>potiuk</td>\n",
       "      <td>[area:dev-tools, backport-to-v3-0-test]</td>\n",
       "      <td>[potiuk]</td>\n",
       "      <td>That isn't right ^ --- ^ Add meaningful descri...</td>\n",
       "      <td>That | meaningful description | more informati...</td>\n",
       "    </tr>\n",
       "  </tbody>\n",
       "</table>\n",
       "</div>"
      ]
     },
     "metadata": {},
     "output_type": "display_data"
    },
    {
     "name": "stdout",
     "output_type": "stream",
     "text": [
      "Columns: ['id', 'number', 'title', 'author', 'body', 'created_at', 'state', 'labels', 'reviewers', 'labels_list', 'reviewers_list', 'body_clean', 'keyphrases']\n"
     ]
    }
   ],
   "execution_count": 2
  },
  {
   "cell_type": "code",
   "id": "52920850",
   "metadata": {
    "ExecuteTime": {
     "end_time": "2025-09-08T22:31:57.169871Z",
     "start_time": "2025-09-08T22:31:57.160018Z"
    }
   },
   "source": [
    "#3\n",
    "# time based splits\n",
    "# Ensure datetime & sort\n",
    "df[\"created_at\"] = pd.to_datetime(df[\"created_at\"], utc=True, errors=\"coerce\")\n",
    "df = df.dropna(subset=[\"created_at\"]).sort_values(\"created_at\").reset_index(drop=True)\n",
    "\n",
    "cut_idx = int(0.8 * len(df))  # 80/20 by time\n",
    "df_tr = df.iloc[:cut_idx].copy()\n",
    "df_te = df.iloc[cut_idx:].copy()\n",
    "\n",
    "def set_of_reviewers(frame: pd.DataFrame):\n",
    "    return set(r for lst in frame[\"reviewers_list\"] for r in (lst or []))\n",
    "\n",
    "tr_revs = set_of_reviewers(df_tr)\n",
    "te_revs = set_of_reviewers(df_te)\n",
    "unseen = te_revs - tr_revs\n",
    "\n",
    "print(f\"Train PRs: {len(df_tr)} | Test PRs: {len(df_te)}\")\n",
    "print(f\"Unique reviewers — train: {len(tr_revs)} | test: {len(te_revs)}\")\n",
    "print(f\"Unseen reviewers in test: {len(unseen)} ({(len(unseen)/max(1,len(te_revs))):.1%})\")\n"
   ],
   "outputs": [
    {
     "name": "stdout",
     "output_type": "stream",
     "text": [
      "Train PRs: 42 | Test PRs: 11\n",
      "Unique reviewers — train: 12 | test: 8\n",
      "Unseen reviewers in test: 2 (25.0%)\n"
     ]
    }
   ],
   "execution_count": 3
  },
  {
   "cell_type": "code",
   "id": "a49345a2",
   "metadata": {
    "ExecuteTime": {
     "end_time": "2025-09-08T22:31:59.310083Z",
     "start_time": "2025-09-08T22:31:59.302073Z"
    }
   },
   "source": [
    "#4\n",
    "# heuristic priors + hit@K with backoff:\n",
    "pA_tr, pL_tr = build_priors(df_tr)\n",
    "pG_tr = build_global_prior(df_tr)  # more robust than approximating\n",
    "\n",
    "for K in (1, 3, 5, 10):\n",
    "    score = hit_at_k(df_te, pA_tr, pL_tr, k=K, p_global=pG_tr, w_author=0.5, w_labels=0.5)\n",
    "    print(f\"Heuristic Hit@{K}: {score:.3f}\")\n"
   ],
   "outputs": [
    {
     "name": "stdout",
     "output_type": "stream",
     "text": [
      "Heuristic Hit@1: 0.364\n",
      "Heuristic Hit@3: 0.455\n",
      "Heuristic Hit@5: 0.455\n",
      "Heuristic Hit@10: 0.545\n"
     ]
    }
   ],
   "execution_count": 4
  },
  {
   "cell_type": "code",
   "id": "0197dfe5",
   "metadata": {
    "ExecuteTime": {
     "end_time": "2025-09-08T22:32:01.311533Z",
     "start_time": "2025-09-08T22:32:01.307265Z"
    }
   },
   "source": [
    "#5\n",
    "# single PR recommentation\n",
    "row0 = df_te.iloc[0] if len(df_te) else df_tr.iloc[0]\n",
    "author = row0[\"author\"]\n",
    "labels = row0[\"labels_list\"]\n",
    "\n",
    "print(\"Author:\", author)\n",
    "print(\"Labels:\", labels)\n",
    "print(\"New API:\", recommend_with_backoff(author, labels, pA_tr, pL_tr, pG_tr, k=5))\n",
    "print(\"Legacy  :\", recommend_reviewers(author, labels, pA_tr, pL_tr, k=5))\n"
   ],
   "outputs": [
    {
     "name": "stdout",
     "output_type": "stream",
     "text": [
      "Author: uranusjr\n",
      "Labels: ['kind:documentation' 'area:task-sdk']\n",
      "New API: ['potiuk', 'jedcunningham', 'jason810496', 'kaxil']\n",
      "Legacy  : ['potiuk', 'jedcunningham', 'jason810496', 'kaxil']\n"
     ]
    }
   ],
   "execution_count": 5
  },
  {
   "cell_type": "code",
   "id": "d3071275",
   "metadata": {
    "ExecuteTime": {
     "end_time": "2025-09-08T22:32:03.427277Z",
     "start_time": "2025-09-08T22:32:03.399849Z"
    }
   },
   "source": [
    "#6\n",
    "# fit vocab (author/labels/reviewers + tfidf) on FULL df (no target leakage beyond label names)\n",
    "fb = FeatureBuilder(use_body=True, use_keyphrases=True)\n",
    "\n",
    "# 1) Fit on full df to capture the full reviewer label space\n",
    "fb.fit(df)\n",
    "\n",
    "# 2) Transform train/test using the same builder\n",
    "X_tr, Y_tr = fb.transform(df_tr)\n",
    "X_te, Y_te = fb.transform(df_te)\n",
    "\n",
    "print(\"X_tr:\", X_tr.shape, \"X_te:\", X_te.shape)\n",
    "print(\"Y_tr:\", Y_tr.shape, \"Y_te:\", Y_te.shape)\n",
    "assert Y_te.index.equals(df_te.index)\n"
   ],
   "outputs": [
    {
     "name": "stdout",
     "output_type": "stream",
     "text": [
      "X_tr: (42, 420) X_te: (11, 420)\n",
      "Y_tr: (42, 14) Y_te: (11, 14)\n"
     ]
    }
   ],
   "execution_count": 6
  },
  {
   "metadata": {
    "ExecuteTime": {
     "end_time": "2025-09-08T22:32:06.894258Z",
     "start_time": "2025-09-08T22:32:06.833730Z"
    }
   },
   "cell_type": "code",
   "source": [
    "# 7\n",
    "# train logistic baseline + default evaluation\n",
    "clf = train_logistic_baseline(X_tr, Y_tr)\n",
    "metrics = evaluate_multilabel(clf, X_te, Y_te)  # uses threshold=0.2 inside utils\n",
    "print(\"Baseline @threshold=0.2:\", metrics)"
   ],
   "id": "e8adedd03dd40695",
   "outputs": [
    {
     "name": "stdout",
     "output_type": "stream",
     "text": [
      "Baseline @threshold=0.2: {'micro_f1': 0.21739130434782608, 'micro_precision': 0.13513513513513514, 'micro_recall': 0.5555555555555556}\n"
     ]
    }
   ],
   "execution_count": 7
  },
  {
   "metadata": {
    "ExecuteTime": {
     "end_time": "2025-09-08T22:32:09.009942Z",
     "start_time": "2025-09-08T22:32:08.990463Z"
    }
   },
   "cell_type": "code",
   "source": [
    "#8\n",
    "# threshold sweep to see precision/recall tradeoff\n",
    "for t in [0.05, 0.1, 0.2, 0.3]:\n",
    "    print(t, evaluate_with_threshold(clf, X_te, Y_te, thr=t))"
   ],
   "id": "cde8d8ded3bd961e",
   "outputs": [
    {
     "name": "stdout",
     "output_type": "stream",
     "text": [
      "0.05 {'micro_f1': 0.140625, 'micro_precision': 0.07563025210084033, 'micro_recall': 1.0}\n",
      "0.1 {'micro_f1': 0.13953488372093023, 'micro_precision': 0.07792207792207792, 'micro_recall': 0.6666666666666666}\n",
      "0.2 {'micro_f1': 0.21739130434782608, 'micro_precision': 0.13513513513513514, 'micro_recall': 0.5555555555555556}\n",
      "0.3 {'micro_f1': 0.3225806451612903, 'micro_precision': 0.22727272727272727, 'micro_recall': 0.5555555555555556}\n"
     ]
    }
   ],
   "execution_count": 8
  },
  {
   "metadata": {
    "ExecuteTime": {
     "end_time": "2025-09-08T22:32:19.679072Z",
     "start_time": "2025-09-08T22:32:19.642626Z"
    }
   },
   "cell_type": "code",
   "source": [
    "#9\n",
    "# Summary\n",
    "# === Final Summary Cell ===\n",
    "summary = {}\n",
    "\n",
    "# Heuristic Hit@K\n",
    "for K in (1, 3, 5, 10):\n",
    "    summary[f\"Heuristic_Hit@{K}\"] = round(\n",
    "        hit_at_k(df_te, pA_tr, pL_tr, k=K, p_global=pG_tr), 3\n",
    "    )\n",
    "\n",
    "# ML metrics at chosen threshold (say 0.30)\n",
    "thr_best = 0.30\n",
    "ml_metrics = evaluate_with_threshold(clf, X_te, Y_te, thr=thr_best)\n",
    "for k, v in ml_metrics.items():\n",
    "    summary[f\"ML@thr={thr_best}_{k}\"] = round(v, 3)\n",
    "\n",
    "# ML Hit@K (top-K decoding)\n",
    "probs = clf.predict_proba(X_te)\n",
    "probs = np.column_stack([p[:, 1] if p.ndim == 2 else p for p in probs])\n",
    "class_names = clf.output_labels_\n",
    "\n",
    "def hit_at_k_from_probs(Y_true, probs, class_names, k):\n",
    "    hits, total = 0, 0\n",
    "    for i in range(Y_true.shape[0]):\n",
    "        truth = set(Y_true.iloc[i].index[Y_true.iloc[i].values.astype(bool)])\n",
    "        if not truth:\n",
    "            total += 1\n",
    "            continue\n",
    "        topk_idx = np.argsort(-probs[i])[:k]\n",
    "        preds = {class_names[j] for j in topk_idx}\n",
    "        if truth & preds:\n",
    "            hits += 1\n",
    "        total += 1\n",
    "    return hits / total if total else 0.0\n",
    "\n",
    "for K in (1, 3, 5, 10):\n",
    "    summary[f\"ML_Top{K}_Hit@{K}\"] = round(hit_at_k_from_probs(Y_te, probs, class_names, K), 3)\n",
    "\n",
    "# Display as a nice DataFrame\n",
    "import pandas as pd\n",
    "summary_df = pd.DataFrame(summary, index=[0]).T.reset_index()\n",
    "summary_df.columns = [\"Metric\", \"Value\"]\n",
    "display(summary_df)\n",
    "\n",
    "summary = {}\n",
    "\n",
    "# Heuristic Hit@K\n",
    "for K in (1, 3, 5, 10):\n",
    "    summary[f\"Heuristic_Hit@{K}\"] = round(\n",
    "        hit_at_k(df_te, pA_tr, pL_tr, k=K, p_global=pG_tr), 3\n",
    "    )\n",
    "\n",
    "# ML metrics at chosen threshold (say 0.30)\n",
    "thr_best = 0.30\n",
    "ml_metrics = evaluate_with_threshold(clf, X_te, Y_te, thr=thr_best)\n",
    "for k, v in ml_metrics.items():\n",
    "    summary[f\"ML@thr={thr_best}_{k}\"] = round(v, 3)\n",
    "\n",
    "# ML Hit@K (top-K decoding)\n",
    "probs = clf.predict_proba(X_te)\n",
    "probs = np.column_stack([p[:, 1] if p.ndim == 2 else p for p in probs])\n",
    "class_names = clf.output_labels_\n",
    "\n",
    "def hit_at_k_from_probs(Y_true, probs, class_names, k):\n",
    "    hits, total = 0, 0\n",
    "    for i in range(Y_true.shape[0]):\n",
    "        truth = set(Y_true.iloc[i].index[Y_true.iloc[i].values.astype(bool)])\n",
    "        if not truth:\n",
    "            total += 1\n",
    "            continue\n",
    "        topk_idx = np.argsort(-probs[i])[:k]\n",
    "        preds = {class_names[j] for j in topk_idx}\n",
    "        if truth & preds:\n",
    "            hits += 1\n",
    "        total += 1\n",
    "    return hits / total if total else 0.0\n",
    "\n",
    "for K in (1, 3, 5, 10):\n",
    "    summary[f\"ML_Top{K}_Hit@{K}\"] = round(hit_at_k_from_probs(Y_te, probs, class_names, K), 3)\n",
    "\n",
    "# Display as a nice DataFrame\n",
    "import pandas as pd\n",
    "summary_df = pd.DataFrame(summary, index=[0]).T.reset_index()\n",
    "summary_df.columns = [\"Metric\", \"Value\"]\n",
    "display(summary_df)\n"
   ],
   "id": "c4df7cc5a4d89a03",
   "outputs": [
    {
     "data": {
      "text/plain": [
       "                        Metric  Value\n",
       "0              Heuristic_Hit@1  0.364\n",
       "1              Heuristic_Hit@3  0.455\n",
       "2              Heuristic_Hit@5  0.455\n",
       "3             Heuristic_Hit@10  0.545\n",
       "4          ML@thr=0.3_micro_f1  0.323\n",
       "5   ML@thr=0.3_micro_precision  0.227\n",
       "6      ML@thr=0.3_micro_recall  0.556\n",
       "7                ML_Top1_Hit@1  0.000\n",
       "8                ML_Top3_Hit@3  0.273\n",
       "9                ML_Top5_Hit@5  0.364\n",
       "10             ML_Top10_Hit@10  0.455"
      ],
      "text/html": [
       "<div>\n",
       "<style scoped>\n",
       "    .dataframe tbody tr th:only-of-type {\n",
       "        vertical-align: middle;\n",
       "    }\n",
       "\n",
       "    .dataframe tbody tr th {\n",
       "        vertical-align: top;\n",
       "    }\n",
       "\n",
       "    .dataframe thead th {\n",
       "        text-align: right;\n",
       "    }\n",
       "</style>\n",
       "<table border=\"1\" class=\"dataframe\">\n",
       "  <thead>\n",
       "    <tr style=\"text-align: right;\">\n",
       "      <th></th>\n",
       "      <th>Metric</th>\n",
       "      <th>Value</th>\n",
       "    </tr>\n",
       "  </thead>\n",
       "  <tbody>\n",
       "    <tr>\n",
       "      <th>0</th>\n",
       "      <td>Heuristic_Hit@1</td>\n",
       "      <td>0.364</td>\n",
       "    </tr>\n",
       "    <tr>\n",
       "      <th>1</th>\n",
       "      <td>Heuristic_Hit@3</td>\n",
       "      <td>0.455</td>\n",
       "    </tr>\n",
       "    <tr>\n",
       "      <th>2</th>\n",
       "      <td>Heuristic_Hit@5</td>\n",
       "      <td>0.455</td>\n",
       "    </tr>\n",
       "    <tr>\n",
       "      <th>3</th>\n",
       "      <td>Heuristic_Hit@10</td>\n",
       "      <td>0.545</td>\n",
       "    </tr>\n",
       "    <tr>\n",
       "      <th>4</th>\n",
       "      <td>ML@thr=0.3_micro_f1</td>\n",
       "      <td>0.323</td>\n",
       "    </tr>\n",
       "    <tr>\n",
       "      <th>5</th>\n",
       "      <td>ML@thr=0.3_micro_precision</td>\n",
       "      <td>0.227</td>\n",
       "    </tr>\n",
       "    <tr>\n",
       "      <th>6</th>\n",
       "      <td>ML@thr=0.3_micro_recall</td>\n",
       "      <td>0.556</td>\n",
       "    </tr>\n",
       "    <tr>\n",
       "      <th>7</th>\n",
       "      <td>ML_Top1_Hit@1</td>\n",
       "      <td>0.000</td>\n",
       "    </tr>\n",
       "    <tr>\n",
       "      <th>8</th>\n",
       "      <td>ML_Top3_Hit@3</td>\n",
       "      <td>0.273</td>\n",
       "    </tr>\n",
       "    <tr>\n",
       "      <th>9</th>\n",
       "      <td>ML_Top5_Hit@5</td>\n",
       "      <td>0.364</td>\n",
       "    </tr>\n",
       "    <tr>\n",
       "      <th>10</th>\n",
       "      <td>ML_Top10_Hit@10</td>\n",
       "      <td>0.455</td>\n",
       "    </tr>\n",
       "  </tbody>\n",
       "</table>\n",
       "</div>"
      ]
     },
     "metadata": {},
     "output_type": "display_data"
    },
    {
     "data": {
      "text/plain": [
       "                        Metric  Value\n",
       "0              Heuristic_Hit@1  0.364\n",
       "1              Heuristic_Hit@3  0.455\n",
       "2              Heuristic_Hit@5  0.455\n",
       "3             Heuristic_Hit@10  0.545\n",
       "4          ML@thr=0.3_micro_f1  0.323\n",
       "5   ML@thr=0.3_micro_precision  0.227\n",
       "6      ML@thr=0.3_micro_recall  0.556\n",
       "7                ML_Top1_Hit@1  0.000\n",
       "8                ML_Top3_Hit@3  0.273\n",
       "9                ML_Top5_Hit@5  0.364\n",
       "10             ML_Top10_Hit@10  0.455"
      ],
      "text/html": [
       "<div>\n",
       "<style scoped>\n",
       "    .dataframe tbody tr th:only-of-type {\n",
       "        vertical-align: middle;\n",
       "    }\n",
       "\n",
       "    .dataframe tbody tr th {\n",
       "        vertical-align: top;\n",
       "    }\n",
       "\n",
       "    .dataframe thead th {\n",
       "        text-align: right;\n",
       "    }\n",
       "</style>\n",
       "<table border=\"1\" class=\"dataframe\">\n",
       "  <thead>\n",
       "    <tr style=\"text-align: right;\">\n",
       "      <th></th>\n",
       "      <th>Metric</th>\n",
       "      <th>Value</th>\n",
       "    </tr>\n",
       "  </thead>\n",
       "  <tbody>\n",
       "    <tr>\n",
       "      <th>0</th>\n",
       "      <td>Heuristic_Hit@1</td>\n",
       "      <td>0.364</td>\n",
       "    </tr>\n",
       "    <tr>\n",
       "      <th>1</th>\n",
       "      <td>Heuristic_Hit@3</td>\n",
       "      <td>0.455</td>\n",
       "    </tr>\n",
       "    <tr>\n",
       "      <th>2</th>\n",
       "      <td>Heuristic_Hit@5</td>\n",
       "      <td>0.455</td>\n",
       "    </tr>\n",
       "    <tr>\n",
       "      <th>3</th>\n",
       "      <td>Heuristic_Hit@10</td>\n",
       "      <td>0.545</td>\n",
       "    </tr>\n",
       "    <tr>\n",
       "      <th>4</th>\n",
       "      <td>ML@thr=0.3_micro_f1</td>\n",
       "      <td>0.323</td>\n",
       "    </tr>\n",
       "    <tr>\n",
       "      <th>5</th>\n",
       "      <td>ML@thr=0.3_micro_precision</td>\n",
       "      <td>0.227</td>\n",
       "    </tr>\n",
       "    <tr>\n",
       "      <th>6</th>\n",
       "      <td>ML@thr=0.3_micro_recall</td>\n",
       "      <td>0.556</td>\n",
       "    </tr>\n",
       "    <tr>\n",
       "      <th>7</th>\n",
       "      <td>ML_Top1_Hit@1</td>\n",
       "      <td>0.000</td>\n",
       "    </tr>\n",
       "    <tr>\n",
       "      <th>8</th>\n",
       "      <td>ML_Top3_Hit@3</td>\n",
       "      <td>0.273</td>\n",
       "    </tr>\n",
       "    <tr>\n",
       "      <th>9</th>\n",
       "      <td>ML_Top5_Hit@5</td>\n",
       "      <td>0.364</td>\n",
       "    </tr>\n",
       "    <tr>\n",
       "      <th>10</th>\n",
       "      <td>ML_Top10_Hit@10</td>\n",
       "      <td>0.455</td>\n",
       "    </tr>\n",
       "  </tbody>\n",
       "</table>\n",
       "</div>"
      ]
     },
     "metadata": {},
     "output_type": "display_data"
    }
   ],
   "execution_count": 9
  }
 ],
 "metadata": {},
 "nbformat": 4,
 "nbformat_minor": 5
}
